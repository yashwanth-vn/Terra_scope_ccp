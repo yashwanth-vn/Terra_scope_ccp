{
 "cells": [
  {
   "cell_type": "code",
   "execution_count": null,
   "id": "82da7b91-b207-4d3b-8666-9e5a2418322b",
   "metadata": {},
   "outputs": [],
   "source": []
  }
 ],
 "metadata": {
  "kernelspec": {
   "display_name": "",
   "name": ""
  },
  "language_info": {
   "name": ""
  }
 },
 "nbformat": 4,
 "nbformat_minor": 5
}
